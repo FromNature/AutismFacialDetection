{
 "cells": [
  {
   "cell_type": "markdown",
   "metadata": {},
   "source": [
    "人口统计分析"
   ]
  },
  {
   "cell_type": "code",
   "execution_count": 1,
   "metadata": {},
   "outputs": [
    {
     "name": "stdout",
     "output_type": "stream",
     "text": [
      "数量：184\n"
     ]
    }
   ],
   "source": [
    "import pandas as pd\n",
    "from scipy import stats\n",
    "import numpy as np\n",
    "from statsmodels.stats.multitest import multipletests\n",
    "from lib.EventTracking import Events\n",
    "import os\n",
    "import glob\n",
    "\n",
    "df = pd.read_csv('result\\demographics.csv')\n",
    "# 1为ASD组，0为TD组 1为男性，0为女性\n",
    "df['组别'] = df['组别'].replace({1: 'ASD', 0: 'TD'})\n",
    "df['性别'] = df['性别'].replace({1: 'Male', 0: 'Female'})\n",
    "\n",
    "print(f\"数量：{len(df)}\")"
   ]
  },
  {
   "cell_type": "code",
   "execution_count": 2,
   "metadata": {},
   "outputs": [],
   "source": [
    "# 计算实验交互时长\n",
    "df['Experimental_duration'] = None\n",
    "events_path = r'result\\Events'\n",
    "\n",
    "# 遍历数据框的每一行\n",
    "for index, row in df.iterrows():\n",
    "    name = row['姓名']\n",
    "    json_path = os.path.join(events_path, f'{name}.json')\n",
    "    if os.path.exists(json_path):\n",
    "        events = Events(json_path)\n",
    "        # 计算实验时长（分钟）\n",
    "        duration = (events.events[-1].EndTime - events.events[0].StartTime).total_seconds() / 60\n",
    "        # 赋值给对应行的Experimental_duration列\n",
    "        df.at[index, 'Experimental_duration'] = duration\n",
    "df['Experimental_duration'] = pd.to_numeric(df['Experimental_duration'])\n",
    "\n",
    "# df.to_csv('result\\demographics_with_duration.csv', index=False, encoding='utf-8-sig')\n"
   ]
  },
  {
   "cell_type": "code",
   "execution_count": 3,
   "metadata": {},
   "outputs": [
    {
     "name": "stdout",
     "output_type": "stream",
     "text": [
      "ASD组人数    :    99\n",
      "TD组人数     :    85\n",
      "ASD组男女比例: 男 =    83, 女 =    16\n",
      "TD组男女比例 : 男 =    47, 女 =    38\n"
     ]
    }
   ],
   "source": [
    "asd_group, td_group = df[df['组别'] == 'ASD'], df[df['组别'] == 'TD']\n",
    "\n",
    "# 男女比例\n",
    "num_asd = len(asd_group)\n",
    "num_td = len(td_group)\n",
    "gender_asd_count = asd_group['性别'].value_counts().to_dict()\n",
    "gender_td_count = td_group['性别'].value_counts().to_dict()\n",
    "male_asd = gender_asd_count.get('Male', 0)\n",
    "female_asd = gender_asd_count.get('Female', 0)\n",
    "male_td = gender_td_count.get('Male', 0)\n",
    "female_td = gender_td_count.get('Female', 0)\n",
    "\n",
    "print(f'ASD组人数    : {num_asd:>5}')\n",
    "print(f'TD组人数     : {num_td:>5}')\n",
    "print(f'ASD组男女比例: 男 = {male_asd:>5}, 女 = {female_asd:>5}')\n",
    "print(f'TD组男女比例 : 男 = {male_td:>5}, 女 = {female_td:>5}')"
   ]
  },
  {
   "cell_type": "code",
   "execution_count": 4,
   "metadata": {},
   "outputs": [
    {
     "name": "stdout",
     "output_type": "stream",
     "text": [
      "ASD组实验总时长: 40.06小时\n",
      "TD组实验总时长 : 32.83小时\n",
      "实验总时长: 72.90小时\n"
     ]
    }
   ],
   "source": [
    "# 实验总时长\n",
    "asd_total_duration =    asd_group['Experimental_duration'].sum() / 60\n",
    "td_total_duration = td_group['Experimental_duration'].sum() / 60\n",
    "print(f'ASD组实验总时长: {asd_total_duration:.2f}小时')\n",
    "print(f'TD组实验总时长 : {td_total_duration:.2f}小时')\n",
    "print(f'实验总时长: {asd_total_duration + td_total_duration:.2f}小时')\n"
   ]
  },
  {
   "cell_type": "code",
   "execution_count": 9,
   "metadata": {},
   "outputs": [
    {
     "data": {
      "text/html": [
       "<div>\n",
       "<style scoped>\n",
       "    .dataframe tbody tr th:only-of-type {\n",
       "        vertical-align: middle;\n",
       "    }\n",
       "\n",
       "    .dataframe tbody tr th {\n",
       "        vertical-align: top;\n",
       "    }\n",
       "\n",
       "    .dataframe thead th {\n",
       "        text-align: right;\n",
       "    }\n",
       "</style>\n",
       "<table border=\"1\" class=\"dataframe\">\n",
       "  <thead>\n",
       "    <tr style=\"text-align: right;\">\n",
       "      <th></th>\n",
       "      <th>item</th>\n",
       "      <th>统计方法</th>\n",
       "      <th>ASD mean±std</th>\n",
       "      <th>TD mean±std</th>\n",
       "      <th>统计量Z/T</th>\n",
       "      <th>P值</th>\n",
       "      <th>corrected_p_values</th>\n",
       "      <th>Significance</th>\n",
       "    </tr>\n",
       "  </thead>\n",
       "  <tbody>\n",
       "    <tr>\n",
       "      <th>0</th>\n",
       "      <td>Age</td>\n",
       "      <td>Mann-Whitney U</td>\n",
       "      <td>75.93±17.99</td>\n",
       "      <td>78.41±18.88</td>\n",
       "      <td>3910.5</td>\n",
       "      <td>4.102545e-01</td>\n",
       "      <td>4.102545e-01</td>\n",
       "      <td></td>\n",
       "    </tr>\n",
       "    <tr>\n",
       "      <th>1</th>\n",
       "      <td>ABC</td>\n",
       "      <td>Mann-Whitney U</td>\n",
       "      <td>38.43±23.48</td>\n",
       "      <td>1.72±3.49</td>\n",
       "      <td>8300.5</td>\n",
       "      <td>7.670033e-31</td>\n",
       "      <td>3.068013e-30</td>\n",
       "      <td>*</td>\n",
       "    </tr>\n",
       "    <tr>\n",
       "      <th>2</th>\n",
       "      <td>克氏</td>\n",
       "      <td>Mann-Whitney U</td>\n",
       "      <td>10.75±5.39</td>\n",
       "      <td>1.13±1.62</td>\n",
       "      <td>8115.0</td>\n",
       "      <td>6.858173e-28</td>\n",
       "      <td>1.371635e-27</td>\n",
       "      <td>*</td>\n",
       "    </tr>\n",
       "    <tr>\n",
       "      <th>3</th>\n",
       "      <td>Experimental_duration</td>\n",
       "      <td>Mann-Whitney U</td>\n",
       "      <td>24.28±4.45</td>\n",
       "      <td>23.18±4.02</td>\n",
       "      <td>4837.0</td>\n",
       "      <td>8.075221e-02</td>\n",
       "      <td>1.076696e-01</td>\n",
       "      <td></td>\n",
       "    </tr>\n",
       "  </tbody>\n",
       "</table>\n",
       "</div>"
      ],
      "text/plain": [
       "                    item            统计方法 ASD mean±std  TD mean±std  统计量Z/T  \\\n",
       "0                    Age  Mann-Whitney U  75.93±17.99  78.41±18.88  3910.5   \n",
       "1                    ABC  Mann-Whitney U  38.43±23.48    1.72±3.49  8300.5   \n",
       "2                     克氏  Mann-Whitney U   10.75±5.39    1.13±1.62  8115.0   \n",
       "3  Experimental_duration  Mann-Whitney U   24.28±4.45   23.18±4.02  4837.0   \n",
       "\n",
       "             P值  corrected_p_values Significance  \n",
       "0  4.102545e-01        4.102545e-01               \n",
       "1  7.670033e-31        3.068013e-30            *  \n",
       "2  6.858173e-28        1.371635e-27            *  \n",
       "3  8.075221e-02        1.076696e-01               "
      ]
     },
     "execution_count": 9,
     "metadata": {},
     "output_type": "execute_result"
    }
   ],
   "source": [
    "# 组间差异\n",
    "corrected_p_values = []\n",
    "result = pd.DataFrame(columns=[\"item\", \"统计方法\", \"ASD mean±std\", \"TD mean±std\", \"统计量Z/T\", \"P值\"])\n",
    "\n",
    "age_asd = asd_group['Age']\n",
    "age_td = td_group['Age']\n",
    "# t_stat_age, p_value_age = stats.ttest_ind(age_asd, age_td)\n",
    "statistic, p_value = stats.mannwhitneyu(age_asd, age_td, alternative='two-sided')\n",
    "corrected_p_values.append(p_value)\n",
    "result.loc[len(result)] = [\"Age\", \"Mann-Whitney U\", f\"{age_asd.mean():.2f}±{age_asd.std():.2f}\", f\"{age_td.mean():.2f}±{age_td.std():.2f}\", statistic, p_value]\n",
    "\n",
    "# chi2_stat_gender, p_value_gender, dof_gender, expected_gender = stats.chi2_contingency([\n",
    "#     [male_asd, female_asd],\n",
    "#     [male_td, female_td]\n",
    "# ])\n",
    "# corrected_p_values.append(p_value_gender)\n",
    "# result.loc[len(result)] = [\"Gender\", \"Chi-squared test\", f\"男 {male_asd}/ 女{female_asd}\", f\"男{male_td}/女{female_td}\", chi2_stat_gender, p_value_gender]\n",
    "\n",
    "# for col in ['ABC', 'S1', 'R', 'B', 'L', 'S2', '克氏', 'Experimental_duration']:\n",
    "for col in ['ABC', '克氏', 'Experimental_duration']:\n",
    "    asd_value = asd_group[col]\n",
    "    td_value = td_group[col]\n",
    "    \n",
    "\n",
    "    stat_0, p_value_0 = stats.shapiro(asd_value)\n",
    "    stat_1, p_value_1 = stats.shapiro(td_value)\n",
    "\n",
    "    if p_value_0 > 0.05 and p_value_1 > 0.05:\n",
    "        t_statistic, p_value = stats.ttest_ind(asd_value, td_value)\n",
    "        result.loc[len(result.index)] = [col, 't-test' , f\"{asd_value.mean():.2f}±{asd_value.std():.2f}\", f\"{td_value.mean():.2f}±{td_value.std():.2f}\", t_statistic, p_value]\n",
    "        corrected_p_values.append(p_value)\n",
    "    else:\n",
    "        statistic, p_value = stats.mannwhitneyu(asd_value, td_value, alternative='two-sided')\n",
    "        result.loc[len(result.index)] = [col, 'Mann-Whitney U', f\"{asd_value.mean():.2f}±{asd_value.std():.2f}\", f\"{td_value.mean():.2f}±{td_value.std():.2f}\", statistic, p_value]\n",
    "        corrected_p_values.append(p_value)\n",
    "\n",
    "# 修正p值\n",
    "corrected_p_values = multipletests(corrected_p_values, method='fdr_bh')[1]\n",
    "\n",
    "# corrected_p_values = multipletests(corrected_p_values, method='fdr_by')[1]\n",
    "result['corrected_p_values'] = corrected_p_values\n",
    "result['Significance'] = result['corrected_p_values'].apply(lambda p: '*' if p < 0.05 else '')\n",
    "\n",
    "result"
   ]
  },
  {
   "cell_type": "code",
   "execution_count": null,
   "metadata": {},
   "outputs": [],
   "source": []
  }
 ],
 "metadata": {
  "kernelspec": {
   "display_name": "fea1128",
   "language": "python",
   "name": "python3"
  },
  "language_info": {
   "codemirror_mode": {
    "name": "ipython",
    "version": 3
   },
   "file_extension": ".py",
   "mimetype": "text/x-python",
   "name": "python",
   "nbconvert_exporter": "python",
   "pygments_lexer": "ipython3",
   "version": "3.11.5"
  }
 },
 "nbformat": 4,
 "nbformat_minor": 2
}
